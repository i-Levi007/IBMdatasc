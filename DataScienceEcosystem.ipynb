{
 "cells": [
  {
   "cell_type": "markdown",
   "id": "c30f21be-bc35-45a5-8ed2-994c4c98ace2",
   "metadata": {},
   "source": [
    "# Data Science Tools and Ecosystem"
   ]
  },
  {
   "cell_type": "markdown",
   "id": "2d406a36-aadd-4c78-aba1-fbfeac84cf6e",
   "metadata": {},
   "source": [
    "In this notebook, Data Science Tools and Ecosystem are summarized."
   ]
  },
  {
   "cell_type": "markdown",
   "id": "30263474-0db2-4f9f-8757-d53147a4f9ab",
   "metadata": {},
   "source": [
    "**Objectives:**\n",
    "- List popular languages for Data Science\n",
    "- List libraries used by Data Scientists\n",
    "- List Data Science Tools\n",
    "- Evaluating arithmetic expressions"
   ]
  },
  {
   "cell_type": "markdown",
   "id": "3fe9b255-c83f-4035-9186-b90c91a43bea",
   "metadata": {},
   "source": [
    "Some of the popular languages that Data Scientists use are:\n",
    "1.Python\n",
    "2.R\n",
    "3.Julia\n",
    "4.Scala"
   ]
  },
  {
   "cell_type": "markdown",
   "id": "162c1486-7f2a-4ea9-b55d-184adc352db3",
   "metadata": {},
   "source": [
    "Some of the commonly used libraries used by Data Scientists include:\n",
    "1.NumPy\n",
    "2.Pandas\n",
    "3.Matplotlib"
   ]
  },
  {
   "cell_type": "markdown",
   "id": "dba7d1c3-e988-4987-9e63-075df7e6dfb0",
   "metadata": {},
   "source": [
    "| Data Science Tools |\n",
    "|--------------------|\n",
    "|R Studio            |\n",
    "|Jupyter Lab         |\n",
    "|Visual studio code  |"
   ]
  },
  {
   "cell_type": "markdown",
   "id": "beb89cd5-c45e-44c8-a892-3714d9f06714",
   "metadata": {},
   "source": [
    "### Below are a few examples of evaluating arithmetic expressions in Python"
   ]
  },
  {
   "cell_type": "markdown",
   "id": "4523ddb8-de94-4061-9460-257230881c14",
   "metadata": {},
   "source": [
    "This a simple arithmetic expression to mutiply then add integers"
   ]
  },
  {
   "cell_type": "code",
   "execution_count": 1,
   "id": "2aeb139d-4799-4244-a88f-418f0d26b09f",
   "metadata": {
    "tags": []
   },
   "outputs": [
    {
     "data": {
      "text/plain": [
       "17"
      ]
     },
     "execution_count": 1,
     "metadata": {},
     "output_type": "execute_result"
    }
   ],
   "source": [
    "(3*4)+5"
   ]
  },
  {
   "cell_type": "markdown",
   "id": "d1d79565-ebae-43ea-abdd-ebea4d92cc89",
   "metadata": {},
   "source": [
    "This will convert 200 minutes to hours by diving by 60"
   ]
  },
  {
   "cell_type": "code",
   "execution_count": 2,
   "id": "4b04a2ed-262b-4cbe-ac99-186da7609d84",
   "metadata": {
    "tags": []
   },
   "outputs": [
    {
     "data": {
      "text/plain": [
       "3.3333333333333335"
      ]
     },
     "execution_count": 2,
     "metadata": {},
     "output_type": "execute_result"
    }
   ],
   "source": [
    "200/60"
   ]
  },
  {
   "cell_type": "markdown",
   "id": "c79f24d9-5a1c-4446-9fa7-f4fd55a389ca",
   "metadata": {},
   "source": [
    "## Author\n",
    "Mohit Sharma"
   ]
  }
 ],
 "metadata": {
  "kernelspec": {
   "display_name": "Python",
   "language": "python",
   "name": "conda-env-python-py"
  },
  "language_info": {
   "codemirror_mode": {
    "name": "ipython",
    "version": 3
   },
   "file_extension": ".py",
   "mimetype": "text/x-python",
   "name": "python",
   "nbconvert_exporter": "python",
   "pygments_lexer": "ipython3",
   "version": "3.7.12"
  },
  "toc-autonumbering": true,
  "toc-showcode": true,
  "toc-showmarkdowntxt": true
 },
 "nbformat": 4,
 "nbformat_minor": 5
}
